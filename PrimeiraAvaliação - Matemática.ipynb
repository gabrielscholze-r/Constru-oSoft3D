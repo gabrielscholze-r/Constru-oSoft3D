{
 "cells": [
  {
   "cell_type": "markdown",
   "metadata": {},
   "source": [
    "# Pontifícia Universidade Católica do Paraná"
   ]
  },
  {
   "cell_type": "markdown",
   "metadata": {},
   "source": [
    "## Bacharelado em Ciência da Computação"
   ]
  },
  {
   "cell_type": "markdown",
   "metadata": {},
   "source": [
    "### Construção de Software Gráfico 3D"
   ]
  },
  {
   "cell_type": "markdown",
   "metadata": {},
   "source": [
    "#### Primeira Avaliação  - 1/10/2020"
   ]
  },
  {
   "cell_type": "markdown",
   "metadata": {},
   "source": [
    "`Nome completo do(a) estudante`: "
   ]
  },
  {
   "cell_type": "markdown",
   "metadata": {},
   "source": [
    "`1. Observação: a interpretação das questões faz parte da prova`"
   ]
  },
  {
   "cell_type": "markdown",
   "metadata": {},
   "source": [
    "`2. A avaliação deve ser resolvida por preenchimento deste notebook`\n",
    "\n",
    "`3. Postar a sua resolução na pasta de exercício Primeira Avaliação do Blackboard`"
   ]
  },
  {
   "cell_type": "markdown",
   "metadata": {},
   "source": [
    "### ***Questão 1***"
   ]
  },
  {
   "cell_type": "markdown",
   "metadata": {},
   "source": [
    "- Utilizando ***função lambda*** e ***list comprehension***, escreva uma função que gere a sequência de valores a seguir, calculados numericamente, com o número $n$ de termos passado como parâmetro:\n",
    "$$\\frac{1}{1!}, \\frac{2}{2!}, \\frac{3}{3!},  \\cdots , \\frac{n}{n!}$$"
   ]
  },
  {
   "cell_type": "markdown",
   "metadata": {},
   "source": [
    "#### *Resolução da Questão 1* (`2,5 pontos`)"
   ]
  },
  {
   "cell_type": "code",
   "execution_count": 2,
   "metadata": {},
   "outputs": [],
   "source": [
    "def fat(n):\n",
    "  x = 1\n",
    "  for i in range(1, n + 1):\n",
    "    x *= i\n",
    "  return x\n",
    "\n",
    "\n",
    "x = lambda lim: [n/fat(n) for n in range(1, lim + 1)]"
   ]
  },
  {
   "cell_type": "code",
   "execution_count": 3,
   "metadata": {},
   "outputs": [
    {
     "data": {
      "text/plain": [
       "[1.0,\n",
       " 1.0,\n",
       " 0.5,\n",
       " 0.16666666666666666,\n",
       " 0.041666666666666664,\n",
       " 0.008333333333333333,\n",
       " 0.001388888888888889,\n",
       " 0.0001984126984126984,\n",
       " 2.48015873015873e-05,\n",
       " 2.7557319223985893e-06]"
      ]
     },
     "execution_count": 3,
     "metadata": {},
     "output_type": "execute_result"
    }
   ],
   "source": [
    "x(10)"
   ]
  },
  {
   "cell_type": "markdown",
   "metadata": {},
   "source": [
    "### ***Questão 2***"
   ]
  },
  {
   "cell_type": "markdown",
   "metadata": {},
   "source": [
    "- Utilizando *reduce* e ***map***, escreva uma função que some a sequência de valores a seguir, com o número $n$ de termos passado como parâmetro:\n",
    "$$\\frac{1}{1!}+ \\frac{2}{2!}+ \\frac{3}{3!},  \\cdots + \\frac{n}{n!}$$"
   ]
  },
  {
   "cell_type": "markdown",
   "metadata": {},
   "source": [
    "#### *Resolução da Questão 2* (`2,5 pontos`)"
   ]
  },
  {
   "cell_type": "code",
   "execution_count": 7,
   "metadata": {},
   "outputs": [
    {
     "data": {
      "text/plain": [
       "2.7182815255731922"
      ]
     },
     "execution_count": 7,
     "metadata": {},
     "output_type": "execute_result"
    }
   ],
   "source": [
    "from functools import reduce\n",
    "\n",
    "Lista_Soma = lambda lista: reduce(lambda x, y: x + y, lista)\n",
    "h = lambda lim: map(lambda x: x/fat(x), range(1, lim+1))\n",
    "soma_da_Lista = lambda y: ListaSoma(h(y))\n",
    "\n",
    "soma_da_Lista(10)"
   ]
  },
  {
   "cell_type": "markdown",
   "metadata": {},
   "source": [
    "### ***Questão 3***"
   ]
  },
  {
   "cell_type": "markdown",
   "metadata": {},
   "source": [
    "- Fotografe uma ***máscara facial*** e poste a fotografia na célula indicada. A máscara fotografada deve estar posicionada de modo semelhante ao mostrado na ***foto de exemplo*** exibida abaixo. (A foto mostrada é meramente ilustrativa, não deve ser utilizada para a resolução da questão.)"
   ]
  },
  {
   "cell_type": "markdown",
   "metadata": {},
   "source": [
    "#### *Postagem da sua foto da* ***máscara facial***"
   ]
  },
  {
   "cell_type": "markdown",
   "metadata": {},
   "source": [
    "![picture.jpg](img/picture.jpg)"
   ]
  },
  {
   "cell_type": "markdown",
   "metadata": {},
   "source": [
    "#### *Plotagem da sua foto da* ***máscara facial***"
   ]
  },
  {
   "cell_type": "markdown",
   "metadata": {},
   "source": [
    "- Plote a sua foto da ***máscara facial***. A plotagem deve ser feita em linguagem *Python* utilizando:\n",
    "    - Curvas de Bézier\n",
    "    - Equação vetorial da reta."
   ]
  },
  {
   "cell_type": "markdown",
   "metadata": {},
   "source": [
    "#### *Resolução da Questão 3* (`5,0 pontos`)"
   ]
  },
  {
   "cell_type": "code",
   "execution_count": 108,
   "metadata": {},
   "outputs": [],
   "source": [
    "import matplotlib.patches as patches\n",
    "from matplotlib.path import Path\n",
    "import matplotlib\n",
    "import matplotlib.pyplot as plt\n",
    "import numpy as np"
   ]
  },
  {
   "cell_type": "code",
   "execution_count": 109,
   "metadata": {},
   "outputs": [],
   "source": [
    "def reta(p0,p1, color=\"black\", lw=\"3\"):\n",
    "    #equação da reta\n",
    "    U = [x for x in range(2)]\n",
    "    vx = [p0[0] + u*(p1[0]-p0[0]) for u in U]\n",
    "    vy = [p0[1] + u*(p1[1]-p0[1]) for u in U]\n",
    "    plt.plot(vx,vy, color=color)"
   ]
  },
  {
   "cell_type": "code",
   "execution_count": 110,
   "metadata": {},
   "outputs": [],
   "source": [
    "orelha1 = [(2.5,4),(1.0,4),(1.0, 5),(1, 6),(2.5, 6)]\n",
    "orelha2 = [(10,4),(11.5,4),(11.5, 5),(11.5, 6),(10, 6)]\n",
    "curva1 = [(5.5, 3.0),(6.5, 2.8),(7, 3)]\n",
    "curva2 = [(5.5, 7.0),(6.5, 7.2),(7, 7.0)]\n",
    "curvaFrente = [(6.5, 3.0),(6.0, 4.9),(6.5, 7)]\n",
    "\n",
    "\n",
    "\n",
    "codes = [Path.MOVETO,\n",
    "         Path.CURVE3, \n",
    "         Path.CURVE3,\n",
    "         ]\n",
    "codes2 = [Path.MOVETO, \n",
    "         Path.CURVE3,\n",
    "         Path.CURVE3,\n",
    "          Path.CURVE3,\n",
    "          Path.CURVE3\n",
    "         ]\n",
    "\n",
    "path = Path(orelha1, codes2)\n",
    "path2 = Path(curva1, codes)\n",
    "path3 = Path(curva2, codes)\n",
    "path4 = Path(orelha2, codes2)\n",
    "path5 = Path(curvaFrente, codes)"
   ]
  },
  {
   "cell_type": "code",
   "execution_count": 111,
   "metadata": {},
   "outputs": [
    {
     "data": {
      "image/png": "[encoded data removed]",
      "text/plain": [
       "<Figure size 432x288 with 1 Axes>"
      ]
     },
     "metadata": {
      "needs_background": "light"
     },
     "output_type": "display_data"
    }
   ],
   "source": [
    "\n",
    "\n",
    "\n",
    "patch = patches.PathPatch(path, facecolor='none', # 'blue'\n",
    "                              edgecolor='black', lw=1.5)\n",
    "patch2 = patches.PathPatch(path2, facecolor='none', # 'blue'\n",
    "                              edgecolor='black', lw=1.5)\n",
    "patch3 = patches.PathPatch(path3, facecolor='none', # 'blue'\n",
    "                              edgecolor='black', lw=1.5)\n",
    "patch4 = patches.PathPatch(path4, facecolor='none', # 'blue'\n",
    "                              edgecolor='black', lw=1.5)\n",
    "patch5 = patches.PathPatch(path5, facecolor='none', # 'blue'\n",
    "                              edgecolor='black', lw=1)\n",
    "\n",
    "\n",
    "\n",
    "ax = plt.gca() # gca = get current plot's \"axes\"\n",
    "\n",
    "\n",
    "\n",
    "\n",
    "\n",
    "reta((2.5,6.0), (3.2, 6.0))\n",
    "reta((2.5,4.0), (3.2, 4.0))\n",
    "reta((3.2, 6.2),(3.2, 3.8))\n",
    "reta((3.2, 3.8),(5.5, 3.0))\n",
    "reta((7.0, 3.0),(9.3, 3.8))\n",
    "reta((9.3, 3.8),(9.3, 6.2))\n",
    "reta((9.3, 6.2),(7.0, 7.0))\n",
    "reta((3.2, 6.2),(5.5, 7.0))\n",
    "reta((9.3, 6.0), (10.0, 6.0))\n",
    "reta((9.3, 4.0), (10.0, 4.0))\n",
    "\n",
    "\n",
    "\n",
    "ax.add_patch(patch)\n",
    "ax.add_patch(patch2)\n",
    "ax.add_patch(patch3)\n",
    "ax.add_patch(patch4)\n",
    "ax.add_patch(patch5)\n",
    "\n",
    "\n",
    "\n",
    "\n",
    "ax.set_xlim(-0.1, 15)\n",
    "ax.set_ylim(-0.1, 10)\n",
    "ax.set_aspect(1) \n",
    "plt.show()"
   ]
  },
  {
   "cell_type": "code",
   "execution_count": null,
   "metadata": {},
   "outputs": [],
   "source": []
  }
 ],
 "metadata": {
  "kernelspec": {
   "display_name": "Python 3",
   "language": "python",
   "name": "python3"
  },
  "language_info": {
   "codemirror_mode": {
    "name": "ipython",
    "version": 3
   },
   "file_extension": ".py",
   "mimetype": "text/x-python",
   "name": "python",
   "nbconvert_exporter": "python",
   "pygments_lexer": "ipython3",
   "version": "3.7.4"
  }
 },
 "nbformat": 4,
 "nbformat_minor": 4
}
